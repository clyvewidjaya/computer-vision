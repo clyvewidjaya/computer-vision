{
 "cells": [
  {
   "cell_type": "code",
   "execution_count": 34,
   "metadata": {},
   "outputs": [],
   "source": [
    "import numpy as np\n",
    "import cv2\n",
    "from matplotlib import pyplot as plt\n",
    "from imutils import perspective\n",
    "from imutils import contours\n",
    "import imutils\n",
    "import os\n",
    "\n",
    "disparityMapScale = 35\n",
    "disparityMap = []\n",
    "isTrain = True\n",
    "average = 0"
   ]
  },
  {
   "cell_type": "code",
   "execution_count": 7,
   "metadata": {},
   "outputs": [],
   "source": [
    "def calibrate():\n",
    "    if os.path.isfile('./camera/mtx.npy') and os.path.isfile('./camera/dist.npy'):\n",
    "        return np.load('./camera/mtx.npy'), np.load('./camera/dist.npy')\n",
    "    else:\n",
    "        imgpoints = []\n",
    "        objpoints = []\n",
    "        criteria = (cv2.TERM_CRITERIA_EPS + cv2.TERM_CRITERIA_MAX_ITER, 30, 0.001)\n",
    "        objp = np.zeros((1, boardShape[0] * boardShape[1], 3), np.float32)\n",
    "        objp[0,:,:2] = np.mgrid[0:boardShape[0], 0:boardShape[1]].T.reshape(-1, 2)\n",
    "        for filename in os.listdir(\"images/calibrator2\"):\n",
    "            if (filename.find(\".jpg\") != -1):\n",
    "\n",
    "                img = cv2.imread(os.path.join(\"images/calibrator2\",filename))\n",
    "                gray = cv2.cvtColor(img, cv2.COLOR_BGR2GRAY)\n",
    "                ret, corners = cv2.findChessboardCorners(gray, boardShape, \n",
    "                                                         cv2.CALIB_CB_ADAPTIVE_THRESH + \n",
    "                                                         cv2.CALIB_CB_FAST_CHECK + \n",
    "                                                         cv2.CALIB_CB_NORMALIZE_IMAGE)\n",
    "                if ret == True:\n",
    "                    print(filename)\n",
    "                    objpoints.append(objp)\n",
    "                    corners2 = cv2.cornerSubPix(gray, corners, (11,11), (-1,-1), criteria)\n",
    "                    imgpoints.append(corners)\n",
    "        ret, mtx, dist, rvecs, tvecs = cv2.calibrateCamera(objpoints, imgpoints, gray.shape[::-1], None, None)\n",
    "        return mtx, dist"
   ]
  },
  {
   "cell_type": "code",
   "execution_count": 8,
   "metadata": {},
   "outputs": [],
   "source": [
    "def resize(img, percentage):\n",
    "    return cv2.resize(img, (int(img.shape[1] * percentage / 100), \n",
    "                                int(img.shape[0] * percentage / 100)),\n",
    "                               interpolation = cv2.INTER_AREA)"
   ]
  },
  {
   "cell_type": "code",
   "execution_count": 9,
   "metadata": {},
   "outputs": [],
   "source": [
    "def downSample(image, times = 1):\n",
    "    for i in range(0,times):\n",
    "        image = cv2.pyrDown(image)\n",
    "    return image"
   ]
  },
  {
   "cell_type": "code",
   "execution_count": 10,
   "metadata": {},
   "outputs": [],
   "source": [
    "def getCameraMatrix(image):\n",
    "    h,  w = image.shape[:2]\n",
    "    newCameraMtx, roi = cv2.getOptimalNewCameraMatrix(calibrator[0], calibrator[1], (w,h), 1, (w,h))\n",
    "    return newCameraMtx, roi"
   ]
  },
  {
   "cell_type": "code",
   "execution_count": 28,
   "metadata": {},
   "outputs": [],
   "source": [
    "def getDistance(event, x, y, flags, param):\n",
    "    global disparityMap, isTrain, average\n",
    "    if event == cv2.EVENT_LBUTTONDBLCLK:\n",
    "        total = 0\n",
    "        resizedDisparityMap = resize(disparityMap, disparityMapScale)\n",
    "        for u in range(-1,2):\n",
    "            for v in range(-1,2):\n",
    "                total += resizedDisparityMap[y + u, x + v]\n",
    "        average = total / 9\n",
    "        \n",
    "        if isTrain:\n",
    "            print(average)\n",
    "        else:\n",
    "            print('here')\n",
    "            return average"
   ]
  },
  {
   "cell_type": "code",
   "execution_count": 11,
   "metadata": {},
   "outputs": [],
   "source": [
    "calibrator = calibrate()"
   ]
  },
  {
   "cell_type": "code",
   "execution_count": 12,
   "metadata": {},
   "outputs": [],
   "source": [
    "def getDisparity(imageLeft, imageRight):\n",
    "    cameraMtx = getCameraMatrix(imageLeft)\n",
    "    undistortedL = cv2.undistort(imageLeft, calibrator[0], calibrator[1], None, cameraMtx[0])\n",
    "    undistortedR = cv2.undistort(imageRight, calibrator[0], calibrator[1], None, cameraMtx[0])\n",
    "\n",
    "    undistortedL = downSample(undistortedL, 1)\n",
    "    undistortedR = downSample(undistortedR, 1)\n",
    "    \n",
    "    win_size = 5 #3\n",
    "    min_disp = -10\n",
    "    max_disp = 326 #min_disp * 9\n",
    "    num_disp = max_disp - min_disp # Needs to be divisible by 16\n",
    "    #Create Block matching object. \n",
    "    stereo = cv2.StereoSGBM_create(\n",
    "        minDisparity= min_disp,\n",
    "        numDisparities = num_disp,\n",
    "        blockSize = win_size,\n",
    "        uniquenessRatio = 3,\n",
    "        speckleWindowSize = 100,\n",
    "        speckleRange = 32,\n",
    "        disp12MaxDiff = 5,\n",
    "        P1 = 8*3*win_size**2,#8*3*win_size**2,\n",
    "        P2 =32*3*win_size**2\n",
    "    ) #32*3*win_size**2)\n",
    "\n",
    "#     stereoResult = stereo.compute(undistortedL, undistortedR)\n",
    "    return stereo.compute(undistortedL, undistortedR)"
   ]
  },
  {
   "cell_type": "code",
   "execution_count": 35,
   "metadata": {},
   "outputs": [
    {
     "name": "stdout",
     "output_type": "stream",
     "text": [
      "images/train/61\n",
      "['.DS_Store', 'left.jpg', 'right.jpg']\n"
     ]
    },
    {
     "ename": "KeyboardInterrupt",
     "evalue": "",
     "output_type": "error",
     "traceback": [
      "\u001b[0;31m---------------------------------------------------------------------------\u001b[0m",
      "\u001b[0;31mKeyboardInterrupt\u001b[0m                         Traceback (most recent call last)",
      "\u001b[0;32m<ipython-input-35-ba588b420680>\u001b[0m in \u001b[0;36m<module>\u001b[0;34m\u001b[0m\n\u001b[1;32m     15\u001b[0m         \u001b[0;32mwhile\u001b[0m \u001b[0;32mTrue\u001b[0m\u001b[0;34m:\u001b[0m\u001b[0;34m\u001b[0m\u001b[0;34m\u001b[0m\u001b[0m\n\u001b[1;32m     16\u001b[0m             \u001b[0mcv2\u001b[0m\u001b[0;34m.\u001b[0m\u001b[0mimshow\u001b[0m\u001b[0;34m(\u001b[0m\u001b[0;34m\"image\"\u001b[0m\u001b[0;34m,\u001b[0m \u001b[0mresize\u001b[0m\u001b[0;34m(\u001b[0m\u001b[0mdisparityMap\u001b[0m\u001b[0;34m,\u001b[0m \u001b[0mdisparityMapScale\u001b[0m\u001b[0;34m)\u001b[0m\u001b[0;34m)\u001b[0m\u001b[0;34m\u001b[0m\u001b[0;34m\u001b[0m\u001b[0m\n\u001b[0;32m---> 17\u001b[0;31m             \u001b[0mkey\u001b[0m \u001b[0;34m=\u001b[0m \u001b[0mcv2\u001b[0m\u001b[0;34m.\u001b[0m\u001b[0mwaitKey\u001b[0m\u001b[0;34m(\u001b[0m\u001b[0;36m1\u001b[0m\u001b[0;34m)\u001b[0m \u001b[0;34m&\u001b[0m \u001b[0;36m0xFF\u001b[0m\u001b[0;34m\u001b[0m\u001b[0;34m\u001b[0m\u001b[0m\n\u001b[0m\u001b[1;32m     18\u001b[0m \u001b[0;34m\u001b[0m\u001b[0m\n\u001b[1;32m     19\u001b[0m             \u001b[0;32mif\u001b[0m \u001b[0mkey\u001b[0m \u001b[0;34m==\u001b[0m \u001b[0mord\u001b[0m\u001b[0;34m(\u001b[0m\u001b[0;34m\"c\"\u001b[0m\u001b[0;34m)\u001b[0m\u001b[0;34m:\u001b[0m\u001b[0;34m\u001b[0m\u001b[0;34m\u001b[0m\u001b[0m\n",
      "\u001b[0;31mKeyboardInterrupt\u001b[0m: "
     ]
    }
   ],
   "source": [
    "folderName =  \"images/train\"\n",
    "cv2.namedWindow(\"image\") \n",
    "cv2.setMouseCallback(\"image\", getDistance)\n",
    "distanceToAverageRatio = []\n",
    "for folder in os.listdir(folderName):\n",
    "    if (folder.isdigit()):\n",
    "        distFolder = os.path.join(folderName, folder)\n",
    "        print(distFolder)\n",
    "        print(os.listdir(distFolder))\n",
    "        imgL = cv2.imread(os.path.join(distFolder, 'left.jpg'))\n",
    "        imgR = cv2.imread(os.path.join(distFolder, 'right.jpg'))\n",
    "        disparityMap = getDisparity(imgL, imgR)\n",
    "#         disparityMap = ((disparityMap.astype(np.float32)/ 16)-(-10))/316\n",
    "        color= cv2.applyColorMap(disparityMap,cv2.COLORMAP_OCEAN) \n",
    "        while True:\n",
    "            cv2.imshow(\"image\", resize(color, disparityMapScale)) \n",
    "            key = cv2.waitKey(1) & 0xFF\n",
    "  \n",
    "            if key == ord(\"c\"):\n",
    "                print(average)\n",
    "                distanceToAverageRatio.append([folder, average])\n",
    "                break\n",
    "cv2.destroyAllWindows()"
   ]
  },
  {
   "cell_type": "code",
   "execution_count": 36,
   "metadata": {},
   "outputs": [
    {
     "data": {
      "text/plain": [
       "[]"
      ]
     },
     "execution_count": 36,
     "metadata": {},
     "output_type": "execute_result"
    }
   ],
   "source": [
    "distanceToAverageRatio"
   ]
  },
  {
   "cell_type": "code",
   "execution_count": 33,
   "metadata": {},
   "outputs": [],
   "source": [
    "with open('distanceToAverageRatio.txt', 'w') as filehandle:\n",
    "    for ratio in distanceToAverageRatio:\n",
    "        for val in ratio:\n",
    "            filehandle.write('%s '%val)\n",
    "        filehandle.write('\\n')"
   ]
  },
  {
   "cell_type": "code",
   "execution_count": null,
   "metadata": {},
   "outputs": [],
   "source": []
  }
 ],
 "metadata": {
  "kernelspec": {
   "display_name": "Python 3",
   "language": "python",
   "name": "python3"
  },
  "language_info": {
   "codemirror_mode": {
    "name": "ipython",
    "version": 3
   },
   "file_extension": ".py",
   "mimetype": "text/x-python",
   "name": "python",
   "nbconvert_exporter": "python",
   "pygments_lexer": "ipython3",
   "version": "3.7.4"
  }
 },
 "nbformat": 4,
 "nbformat_minor": 2
}
