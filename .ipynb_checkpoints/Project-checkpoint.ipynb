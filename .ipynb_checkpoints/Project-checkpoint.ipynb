{
 "cells": [
  {
   "cell_type": "code",
   "execution_count": 1,
   "metadata": {},
   "outputs": [],
   "source": [
    "import numpy as np\n",
    "import cv2\n",
    "from matplotlib import pyplot as plt\n",
    "from imutils import perspective\n",
    "from imutils import contours\n",
    "import imutils\n",
    "import os"
   ]
  },
  {
   "cell_type": "code",
   "execution_count": 2,
   "metadata": {},
   "outputs": [],
   "source": [
    "disparityMapScale = 35\n",
    "imageScale = 25\n",
    "disparityMap = []\n",
    "isTrain = False\n",
    "average = 0\n",
    "sensorHeight = 33.3 #hard to find, so calculated beforehand using known height, known distance, and pixel.\n",
    "cameraFocalLength = 28\n",
    "distance = 0\n",
    "points = []\n",
    "boardShape = (7,7)\n",
    "calibrator = []"
   ]
  },
  {
   "cell_type": "code",
   "execution_count": 3,
   "metadata": {},
   "outputs": [],
   "source": [
    "testLeftImage = cv2.imread('images/test/image1/left.jpg')\n",
    "testRightImage = cv2.imread('images/test/image1/right.jpg')\n",
    "image = []"
   ]
  },
  {
   "cell_type": "code",
   "execution_count": 4,
   "metadata": {},
   "outputs": [],
   "source": [
    "def calibrate():\n",
    "    if os.path.isfile('./camera/mtxs.npy') and os.path.isfile('./camera/dists.npy'):\n",
    "        return np.load('./camera/mtxs.npy'), np.load('./camera/dists.npy')\n",
    "    else:\n",
    "        imgpoints = []\n",
    "        objpoints = []\n",
    "        criteria = (cv2.TERM_CRITERIA_EPS + cv2.TERM_CRITERIA_MAX_ITER, 30, 0.001)\n",
    "        objp = np.zeros((1, boardShape[0] * boardShape[1], 3), np.float32)\n",
    "        objp[0,:,:2] = np.mgrid[0:boardShape[0], 0:boardShape[1]].T.reshape(-1, 2)\n",
    "        for filename in os.listdir(\"images/calibrator2\"):\n",
    "            if (filename.find(\".jpg\") != -1):\n",
    "\n",
    "                img = cv2.imread(os.path.join(\"images/calibrator2\",filename))\n",
    "                gray = cv2.cvtColor(img, cv2.COLOR_BGR2GRAY)\n",
    "                ret, corners = cv2.findChessboardCorners(gray, boardShape, \n",
    "                                                         cv2.CALIB_CB_ADAPTIVE_THRESH + \n",
    "                                                         cv2.CALIB_CB_FAST_CHECK + \n",
    "                                                         cv2.CALIB_CB_NORMALIZE_IMAGE)\n",
    "                if ret == True:\n",
    "                    print(filename)\n",
    "                    objpoints.append(objp)\n",
    "                    corners2 = cv2.cornerSubPix(gray, corners, (11,11), (-1,-1), criteria)\n",
    "                    imgpoints.append(corners)\n",
    "#                     cv2.drawChessboardCorners(img, (7,6), corners2, ret)\n",
    "#                     cv2.imshow('img', resize(img, 25))\n",
    "#                     cv2.waitKey(500)\n",
    "        ret, mtx, dist, rvecs, tvecs = cv2.calibrateCamera(objpoints, imgpoints, gray.shape[::-1], None, None)\n",
    "        saveCameraCalibrator(mtx, dist)\n",
    "        \n",
    "        return mtx, dist"
   ]
  },
  {
   "cell_type": "code",
   "execution_count": 5,
   "metadata": {},
   "outputs": [],
   "source": [
    "def resize(img, percentage):\n",
    "    return cv2.resize(img, (int(img.shape[1] * percentage / 100), \n",
    "                                int(img.shape[0] * percentage / 100)),\n",
    "                               interpolation = cv2.INTER_AREA)"
   ]
  },
  {
   "cell_type": "code",
   "execution_count": 6,
   "metadata": {},
   "outputs": [],
   "source": [
    "def downSample(image, times = 1):\n",
    "    for i in range(0,times):\n",
    "        image = cv2.pyrDown(image)\n",
    "    return image"
   ]
  },
  {
   "cell_type": "code",
   "execution_count": 7,
   "metadata": {},
   "outputs": [],
   "source": [
    "def getCameraMatrix(image):\n",
    "    h,  w = image.shape[:2]\n",
    "    newCameraMtx, roi = cv2.getOptimalNewCameraMatrix(calibrator[0], calibrator[1], (w,h), 1, (w,h))\n",
    "    return newCameraMtx, roi"
   ]
  },
  {
   "cell_type": "code",
   "execution_count": 8,
   "metadata": {},
   "outputs": [],
   "source": [
    "def getDistance(event, x, y, flags, param):\n",
    "    global disparityMap, isTrain, average, distance\n",
    "#     EVENT_LBUTTONDOWN\n",
    "#     EVENT_LBUTTONDBLCLK\n",
    "    if event == cv2.EVENT_LBUTTONDOWN:\n",
    "        total = 0\n",
    "        resizedDisparityMap = resize(disparityMap, disparityMapScale)\n",
    "        for u in range(-1,2):\n",
    "            for v in range(-1,2):\n",
    "                total += resizedDisparityMap[y + u, x + v]\n",
    "        average = total / 9\n",
    "        \n",
    "        if isTrain:\n",
    "            print(average)\n",
    "        else:\n",
    "#             = -6E-13x4 + 6E-09x3 - 1E-05x2 - 0.0392x + 163.54\n",
    "#             = -2E-09x3 + 2E-05x2 - 0.1015x + 199.39\n",
    "            distance = -0.000000002*average**(3) + 0.00002*average**(2) - 0.1015*average + 199.39\n",
    "#             distance = -0.0000000000006*average**(4) + 0.000000006*average**(3) - 0.00001*average**(2) - 0.0392*average + 163.54\n",
    "            distance = np.around(distance*10,decimals=2)\n",
    "            print(distance)\n",
    "#             return average"
   ]
  },
  {
   "cell_type": "code",
   "execution_count": 9,
   "metadata": {},
   "outputs": [],
   "source": [
    "def saveCameraCalibrator(mtx, dist):\n",
    "    np.save(\"./camera/mtxs\", mtx)\n",
    "    np.save(\"./camera/dists\", dist)"
   ]
  },
  {
   "cell_type": "code",
   "execution_count": 10,
   "metadata": {},
   "outputs": [],
   "source": [
    "def getDisparity(imageLeft, imageRight):\n",
    "    cameraMtx = getCameraMatrix(imageLeft)\n",
    "    undistortedL = cv2.undistort(imageLeft, calibrator[0], calibrator[1], None, cameraMtx[0])\n",
    "    undistortedR = cv2.undistort(imageRight, calibrator[0], calibrator[1], None, cameraMtx[0])\n",
    "\n",
    "    undistortedL = downSample(undistortedL, 1)\n",
    "    undistortedR = downSample(undistortedR, 1)\n",
    "    \n",
    "    winSize = 5 #3\n",
    "    minDis = -10\n",
    "    maxDis = 326\n",
    "    numDis = maxDis - minDis\n",
    "    \n",
    "    stereo = cv2.StereoSGBM_create(\n",
    "        minDisparity= minDis,\n",
    "        numDisparities = numDis,\n",
    "        blockSize = winSize,\n",
    "        uniquenessRatio = 3,\n",
    "        speckleWindowSize = 100,\n",
    "        speckleRange = 32,\n",
    "        disp12MaxDiff = 5,\n",
    "        P1 = 8*3*winSize**2,\n",
    "        P2 =32*3*winSize**2\n",
    "    )\n",
    "\n",
    "    return stereo.compute(undistortedL, undistortedR)"
   ]
  },
  {
   "cell_type": "code",
   "execution_count": 11,
   "metadata": {},
   "outputs": [],
   "source": [
    "def train():\n",
    "    global disparityMap\n",
    "    folderName =  \"images/train\"\n",
    "    cv2.namedWindow(\"image\") \n",
    "    cv2.setMouseCallback(\"image\", getDistance)\n",
    "    distanceToAverageRatio = []\n",
    "    for folder in os.listdir(folderName):\n",
    "        if (folder.isdigit()):\n",
    "            distFolder = os.path.join(folderName, folder)\n",
    "            print(distFolder)\n",
    "            print(os.listdir(distFolder))\n",
    "            imgL = cv2.imread(os.path.join(distFolder, 'left.jpg'))\n",
    "            imgR = cv2.imread(os.path.join(distFolder, 'right.jpg'))\n",
    "            disparityMap = getDisparity(imgL, imgR)\n",
    "            show = cv2.normalize(disparityMap, dst = None, alpha=0, beta=255, norm_type=cv2.NORM_MINMAX, dtype=cv2.CV_8U)\n",
    "            while True:\n",
    "                cv2.imshow(\"image\", resize(show, disparityMapScale)) \n",
    "                key = cv2.waitKey(1) & 0xFF\n",
    "                \n",
    "                # press 'q' to continue \n",
    "                if key == ord(\"q\"):\n",
    "                    print(average)\n",
    "                    distanceToAverageRatio.append([folder, average])\n",
    "                    break\n",
    "    cv2.destroyAllWindows()\n",
    "    return distanceToAverageRatio"
   ]
  },
  {
   "cell_type": "code",
   "execution_count": 12,
   "metadata": {},
   "outputs": [],
   "source": [
    "def writeToFile(distanceToAverageRatio):\n",
    "    with open('distanceToAverageRatio4.txt', 'w') as filehandle:\n",
    "        for ratio in distanceToAverageRatio:\n",
    "            for val in ratio:\n",
    "                filehandle.write('%s '%val)\n",
    "            filehandle.write('\\n')"
   ]
  },
  {
   "cell_type": "code",
   "execution_count": 13,
   "metadata": {},
   "outputs": [],
   "source": [
    "def drawAreaToMeasure(event, x, y, flags, param): \n",
    "    global points, image\n",
    "  \n",
    "    if event == cv2.EVENT_LBUTTONDOWN: \n",
    "        points = [(x, y)] \n",
    "  \n",
    "    elif event == cv2.EVENT_LBUTTONUP: \n",
    "        points.append((x, y)) \n",
    "        cv2.rectangle(image, points[0], points[1], (0, 255, 0), 2)\n",
    "        dimension = calculateDimension()\n",
    "        cv2.putText(image, \"Height: {:.1f} cm\".format(dimension[0]), (50,50), \n",
    "                    cv2.FONT_HERSHEY_SIMPLEX, 0.65, (0, 0, 255), 2)\n",
    "        cv2.putText(image, \"Width: {:.1f} cm\".format(dimension[1]), (50,70), \n",
    "                    cv2.FONT_HERSHEY_SIMPLEX, 0.65, (0, 0, 255), 2)\n",
    "        cv2.imshow(\"image\", image)"
   ]
  },
  {
   "cell_type": "code",
   "execution_count": 14,
   "metadata": {},
   "outputs": [],
   "source": [
    "def selectAreaToMeasure():\n",
    "    global image\n",
    "    image = testLeftImage.copy()\n",
    "    image = resize(image, imageScale)\n",
    "    clone = image.copy()\n",
    "    cv2.namedWindow(\"image\") \n",
    "    cv2.setMouseCallback(\"image\", drawAreaToMeasure) \n",
    "\n",
    "    while True: \n",
    "        cv2.imshow(\"image\", image) \n",
    "        key = cv2.waitKey(1) & 0xFF\n",
    "\n",
    "        # press 'r' to reset\n",
    "        if key == ord(\"r\"): \n",
    "            image = clone.copy() \n",
    "\n",
    "        # press 'q' to continue \n",
    "        elif key == ord(\"q\"): \n",
    "            break\n",
    "\n",
    "    cv2.destroyAllWindows()  "
   ]
  },
  {
   "cell_type": "code",
   "execution_count": 15,
   "metadata": {},
   "outputs": [],
   "source": [
    "def calculateDistance():\n",
    "    global disparityMap, testLeftImage, testRightImage\n",
    "    cv2.namedWindow(\"image\") \n",
    "    cv2.setMouseCallback(\"image\", getDistance)\n",
    "    \n",
    "    disparityMap = getDisparity(testLeftImage, testRightImage)\n",
    "    show = cv2.normalize(disparityMap, dst = None, alpha=0, beta=255, norm_type=cv2.NORM_MINMAX, dtype=cv2.CV_8U)\n",
    "    while True:\n",
    "        cv2.imshow(\"image\", resize(show, disparityMapScale)) \n",
    "        key = cv2.waitKey(1) & 0xFF\n",
    "\n",
    "        if key == ord(\"q\"):\n",
    "            break\n",
    "    cv2.destroyAllWindows()"
   ]
  },
  {
   "cell_type": "code",
   "execution_count": 16,
   "metadata": {},
   "outputs": [],
   "source": [
    "def calculateDimension():\n",
    "    global distance, points\n",
    "    #since it was resized, we need to get the real pixel inthe original image\n",
    "    heightInPixel = (points[1][1]/(imageScale/100)) - (points[0][1]/(imageScale/100))\n",
    "    print(testLeftImage.shape[0])\n",
    "    realHeight = (distance * sensorHeight * heightInPixel) / (cameraFocalLength * testLeftImage.shape[0])\n",
    "    realWidth = (realHeight * testLeftImage.shape[1])/testLeftImage.shape[0]\n",
    "    return [np.round(realHeight*0.1, 2), np.round(realWidth*0.1, 2)]  #so it is in cm"
   ]
  },
  {
   "cell_type": "code",
   "execution_count": 17,
   "metadata": {},
   "outputs": [],
   "source": [
    "def run():\n",
    "    global calibrator\n",
    "    calibrator = calibrate()\n",
    "    if isTrain:\n",
    "        distanceToAverageRatio = train()\n",
    "        writeToFile(distanceToAverageRatio)\n",
    "    else:\n",
    "        calculateDistance()\n",
    "        selectAreaToMeasure()"
   ]
  },
  {
   "cell_type": "code",
   "execution_count": 18,
   "metadata": {},
   "outputs": [
    {
     "name": "stdout",
     "output_type": "stream",
     "text": [
      "759.77\n",
      "759.77\n",
      "4032\n"
     ]
    }
   ],
   "source": [
    "run()"
   ]
  }
 ],
 "metadata": {
  "kernelspec": {
   "display_name": "Python 3",
   "language": "python",
   "name": "python3"
  },
  "language_info": {
   "codemirror_mode": {
    "name": "ipython",
    "version": 3
   },
   "file_extension": ".py",
   "mimetype": "text/x-python",
   "name": "python",
   "nbconvert_exporter": "python",
   "pygments_lexer": "ipython3",
   "version": "3.7.4"
  }
 },
 "nbformat": 4,
 "nbformat_minor": 2
}
