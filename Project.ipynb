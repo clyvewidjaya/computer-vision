{
 "cells": [
  {
   "cell_type": "code",
   "execution_count": 19,
   "metadata": {},
   "outputs": [],
   "source": [
    "import numpy as np\n",
    "import cv2\n",
    "from matplotlib import pyplot as plt\n",
    "from imutils import perspective\n",
    "from imutils import contours\n",
    "import imutils\n",
    "import os"
   ]
  },
  {
   "cell_type": "code",
   "execution_count": 30,
   "metadata": {},
   "outputs": [],
   "source": [
    "disparityMapScale = 35\n",
    "imageScale = 25\n",
    "disparityMap = []\n",
    "isTrain = False\n",
    "average = 0\n",
    "sensorHeight = 33.3 #hard to find, so calculated beforehand using known height, known distance, and pixel.\n",
    "cameraFocalLength = 28\n",
    "distance = 0\n",
    "points = []"
   ]
  },
  {
   "cell_type": "code",
   "execution_count": 25,
   "metadata": {},
   "outputs": [],
   "source": [
    "testLeftImage = cv2.imread('images/test/image1/left.jpg')\n",
    "testRightImage = cv2.imread('images/test/image1/right.jpg')\n",
    "image = []"
   ]
  },
  {
   "cell_type": "code",
   "execution_count": 4,
   "metadata": {},
   "outputs": [],
   "source": [
    "def calibrate():\n",
    "    if os.path.isfile('./camera/mtx.npy') and os.path.isfile('./camera/dist.npy'):\n",
    "        return np.load('./camera/mtx.npy'), np.load('./camera/dist.npy')\n",
    "    else:\n",
    "        imgpoints = []\n",
    "        objpoints = []\n",
    "        criteria = (cv2.TERM_CRITERIA_EPS + cv2.TERM_CRITERIA_MAX_ITER, 30, 0.001)\n",
    "        objp = np.zeros((1, boardShape[0] * boardShape[1], 3), np.float32)\n",
    "        objp[0,:,:2] = np.mgrid[0:boardShape[0], 0:boardShape[1]].T.reshape(-1, 2)\n",
    "        for filename in os.listdir(\"images/calibrator2\"):\n",
    "            if (filename.find(\".jpg\") != -1):\n",
    "\n",
    "                img = cv2.imread(os.path.join(\"images/calibrator2\",filename))\n",
    "                gray = cv2.cvtColor(img, cv2.COLOR_BGR2GRAY)\n",
    "                ret, corners = cv2.findChessboardCorners(gray, boardShape, \n",
    "                                                         cv2.CALIB_CB_ADAPTIVE_THRESH + \n",
    "                                                         cv2.CALIB_CB_FAST_CHECK + \n",
    "                                                         cv2.CALIB_CB_NORMALIZE_IMAGE)\n",
    "                if ret == True:\n",
    "                    print(filename)\n",
    "                    objpoints.append(objp)\n",
    "                    corners2 = cv2.cornerSubPix(gray, corners, (11,11), (-1,-1), criteria)\n",
    "                    imgpoints.append(corners)\n",
    "        ret, mtx, dist, rvecs, tvecs = cv2.calibrateCamera(objpoints, imgpoints, gray.shape[::-1], None, None)\n",
    "        return mtx, dist"
   ]
  },
  {
   "cell_type": "code",
   "execution_count": 5,
   "metadata": {},
   "outputs": [],
   "source": [
    "def resize(img, percentage):\n",
    "    return cv2.resize(img, (int(img.shape[1] * percentage / 100), \n",
    "                                int(img.shape[0] * percentage / 100)),\n",
    "                               interpolation = cv2.INTER_AREA)"
   ]
  },
  {
   "cell_type": "code",
   "execution_count": 6,
   "metadata": {},
   "outputs": [],
   "source": [
    "def downSample(image, times = 1):\n",
    "    for i in range(0,times):\n",
    "        image = cv2.pyrDown(image)\n",
    "    return image"
   ]
  },
  {
   "cell_type": "code",
   "execution_count": 7,
   "metadata": {},
   "outputs": [],
   "source": [
    "def getCameraMatrix(image):\n",
    "    h,  w = image.shape[:2]\n",
    "    newCameraMtx, roi = cv2.getOptimalNewCameraMatrix(calibrator[0], calibrator[1], (w,h), 1, (w,h))\n",
    "    return newCameraMtx, roi"
   ]
  },
  {
   "cell_type": "code",
   "execution_count": 8,
   "metadata": {},
   "outputs": [],
   "source": [
    "def getDistance(event, x, y, flags, param):\n",
    "    global disparityMap, isTrain, average, distance\n",
    "    if event == cv2.EVENT_LBUTTONDBLCLK:\n",
    "        total = 0\n",
    "        resizedDisparityMap = resize(disparityMap, disparityMapScale)\n",
    "        for u in range(-1,2):\n",
    "            for v in range(-1,2):\n",
    "                total += resizedDisparityMap[y + u, x + v]\n",
    "        average = total / 9\n",
    "        \n",
    "        if isTrain:\n",
    "            print(average)\n",
    "        else:\n",
    "#             = -6E-13x4 + 6E-09x3 - 1E-05x2 - 0.0392x + 163.54\n",
    "#             -2E-09x3 + 2E-05x2 - 0.1015x + 199.39\n",
    "            distance = -0.000000002*average**(3) + 0.00002*average**(2) - 0.1015*average + 199.39\n",
    "#             distance = -0.0000000000006*average**(4) + 0.000000006*average**(3) - 0.00001*average**(2) - 0.0392*average + 163.54\n",
    "            distance = np.around(distance*10,decimals=2)\n",
    "            print(distance)\n",
    "#             eq = -0.0112x3 + 2.8479x2 - 255.38x + 9641.7\n",
    "#             return average"
   ]
  },
  {
   "cell_type": "code",
   "execution_count": 9,
   "metadata": {},
   "outputs": [],
   "source": [
    "calibrator = calibrate()"
   ]
  },
  {
   "cell_type": "code",
   "execution_count": 10,
   "metadata": {},
   "outputs": [],
   "source": [
    "def getDisparity(imageLeft, imageRight):\n",
    "    cameraMtx = getCameraMatrix(imageLeft)\n",
    "    undistortedL = cv2.undistort(imageLeft, calibrator[0], calibrator[1], None, cameraMtx[0])\n",
    "    undistortedR = cv2.undistort(imageRight, calibrator[0], calibrator[1], None, cameraMtx[0])\n",
    "\n",
    "    undistortedL = downSample(undistortedL, 1)\n",
    "    undistortedR = downSample(undistortedR, 1)\n",
    "    \n",
    "    win_size = 5 #3\n",
    "    min_disp = -10\n",
    "    max_disp = 326 #min_disp * 9\n",
    "    num_disp = max_disp - min_disp # Needs to be divisible by 16\n",
    "    #Create Block matching object. \n",
    "    stereo = cv2.StereoSGBM_create(\n",
    "        minDisparity= min_disp,\n",
    "        numDisparities = num_disp,\n",
    "        blockSize = win_size,\n",
    "        uniquenessRatio = 3,\n",
    "        speckleWindowSize = 100,\n",
    "        speckleRange = 32,\n",
    "        disp12MaxDiff = 5,\n",
    "        P1 = 8*3*win_size**2,#8*3*win_size**2,\n",
    "        P2 =32*3*win_size**2\n",
    "    ) #32*3*win_size**2)\n",
    "\n",
    "#     stereoResult = stereo.compute(undistortedL, undistortedR)\n",
    "    return stereo.compute(undistortedL, undistortedR)"
   ]
  },
  {
   "cell_type": "code",
   "execution_count": 60,
   "metadata": {},
   "outputs": [
    {
     "name": "stdout",
     "output_type": "stream",
     "text": [
      "images/train/61\n",
      "['.DS_Store', 'left.jpg', 'right.jpg']\n",
      "748.51\n",
      "2402.777777777778\n",
      "images/train/95\n",
      "['.DS_Store', 'left.jpg', 'right.jpg']\n",
      "1052.65\n",
      "1347.4444444444443\n",
      "images/train/105\n",
      "['.DS_Store', 'left.jpg', 'right.jpg']\n",
      "1088.16\n",
      "1258.6666666666667\n",
      "images/train/58\n",
      "['.DS_Store', 'left.jpg', 'right.jpg']\n",
      "753.88\n",
      "2371.222222222222\n",
      "images/train/67\n",
      "['.DS_Store', 'left.jpg', 'right.jpg']\n",
      "853.79\n",
      "1932.3333333333333\n",
      "images/train/34\n",
      "['.DS_Store', 'left.jpg', 'right.jpg']\n",
      "760.62\n"
     ]
    },
    {
     "ename": "KeyboardInterrupt",
     "evalue": "",
     "output_type": "error",
     "traceback": [
      "\u001b[0;31m---------------------------------------------------------------------------\u001b[0m",
      "\u001b[0;31mKeyboardInterrupt\u001b[0m                         Traceback (most recent call last)",
      "\u001b[0;32m<ipython-input-60-9c7e7c39b1a5>\u001b[0m in \u001b[0;36m<module>\u001b[0;34m\u001b[0m\n\u001b[1;32m     15\u001b[0m         \u001b[0;32mwhile\u001b[0m \u001b[0;32mTrue\u001b[0m\u001b[0;34m:\u001b[0m\u001b[0;34m\u001b[0m\u001b[0;34m\u001b[0m\u001b[0m\n\u001b[1;32m     16\u001b[0m             \u001b[0mcv2\u001b[0m\u001b[0;34m.\u001b[0m\u001b[0mimshow\u001b[0m\u001b[0;34m(\u001b[0m\u001b[0;34m\"image\"\u001b[0m\u001b[0;34m,\u001b[0m \u001b[0mresize\u001b[0m\u001b[0;34m(\u001b[0m\u001b[0mdisparityMap\u001b[0m\u001b[0;34m,\u001b[0m \u001b[0mdisparityMapScale\u001b[0m\u001b[0;34m)\u001b[0m\u001b[0;34m)\u001b[0m\u001b[0;34m\u001b[0m\u001b[0;34m\u001b[0m\u001b[0m\n\u001b[0;32m---> 17\u001b[0;31m             \u001b[0mkey\u001b[0m \u001b[0;34m=\u001b[0m \u001b[0mcv2\u001b[0m\u001b[0;34m.\u001b[0m\u001b[0mwaitKey\u001b[0m\u001b[0;34m(\u001b[0m\u001b[0;36m1\u001b[0m\u001b[0;34m)\u001b[0m \u001b[0;34m&\u001b[0m \u001b[0;36m0xFF\u001b[0m\u001b[0;34m\u001b[0m\u001b[0;34m\u001b[0m\u001b[0m\n\u001b[0m\u001b[1;32m     18\u001b[0m \u001b[0;34m\u001b[0m\u001b[0m\n\u001b[1;32m     19\u001b[0m             \u001b[0;32mif\u001b[0m \u001b[0mkey\u001b[0m \u001b[0;34m==\u001b[0m \u001b[0mord\u001b[0m\u001b[0;34m(\u001b[0m\u001b[0;34m\"c\"\u001b[0m\u001b[0;34m)\u001b[0m\u001b[0;34m:\u001b[0m\u001b[0;34m\u001b[0m\u001b[0;34m\u001b[0m\u001b[0m\n",
      "\u001b[0;31mKeyboardInterrupt\u001b[0m: "
     ]
    }
   ],
   "source": [
    "folderName =  \"images/train\"\n",
    "cv2.namedWindow(\"image\") \n",
    "cv2.setMouseCallback(\"image\", getDistance)\n",
    "distanceToAverageRatio = []\n",
    "for folder in os.listdir(folderName):\n",
    "    if (folder.isdigit()):\n",
    "        distFolder = os.path.join(folderName, folder)\n",
    "        print(distFolder)\n",
    "        print(os.listdir(distFolder))\n",
    "        imgL = cv2.imread(os.path.join(distFolder, 'left.jpg'))\n",
    "        imgR = cv2.imread(os.path.join(distFolder, 'right.jpg'))\n",
    "        disparityMap = getDisparity(imgL, imgR)\n",
    "#         disparityMap = ((disparityMap.astype(np.float32)/ 16)-(-10))/316\n",
    "#         color= cv2.applyColorMap(disparityMap,cv2.COLORMAP_OCEAN) \n",
    "        while True:\n",
    "            cv2.imshow(\"image\", resize(disparityMap, disparityMapScale)) \n",
    "            key = cv2.waitKey(1) & 0xFF\n",
    "  \n",
    "            if key == ord(\"c\"):\n",
    "                print(average)\n",
    "                distanceToAverageRatio.append([folder, average])\n",
    "                break\n",
    "cv2.destroyAllWindows()"
   ]
  },
  {
   "cell_type": "code",
   "execution_count": 54,
   "metadata": {},
   "outputs": [
    {
     "data": {
      "text/plain": [
       "[['61', 2401.6666666666665],\n",
       " ['95', 1378.3333333333333],\n",
       " ['105', 1306.4444444444443],\n",
       " ['58', 2379.6666666666665],\n",
       " ['67', 1935.6666666666667],\n",
       " ['34', 3843.222222222222],\n",
       " ['73', 1830.5555555555557],\n",
       " ['28', 4811.111111111111],\n",
       " ['110', 1027.3333333333333],\n",
       " ['43', 2952.3333333333335],\n",
       " ['31', 4193.666666666667],\n",
       " ['100', 1374.5555555555557],\n",
       " ['37', 3610.222222222222],\n",
       " ['52', 2578.222222222222],\n",
       " ['55', 2578.6666666666665],\n",
       " ['64', 2124.0],\n",
       " ['90', 1487.2222222222222],\n",
       " ['46', 2913.4444444444443],\n",
       " ['79', 1717.888888888889],\n",
       " ['115', 1207.6666666666667],\n",
       " ['70', 2097.6666666666665],\n",
       " ['85', 1585.111111111111],\n",
       " ['76', 1938.6666666666667],\n",
       " ['82', 1833.4444444444443],\n",
       " ['49', 2809.1111111111113],\n",
       " ['40', 3168.222222222222],\n",
       " ['25', 3168.222222222222]]"
      ]
     },
     "execution_count": 54,
     "metadata": {},
     "output_type": "execute_result"
    }
   ],
   "source": [
    "distanceToAverageRatio"
   ]
  },
  {
   "cell_type": "code",
   "execution_count": 55,
   "metadata": {},
   "outputs": [],
   "source": [
    "with open('distanceToAverageRatio.txt', 'w') as filehandle:\n",
    "    for ratio in distanceToAverageRatio:\n",
    "        for val in ratio:\n",
    "            filehandle.write('%s '%val)\n",
    "        filehandle.write('\\n')"
   ]
  },
  {
   "cell_type": "code",
   "execution_count": 70,
   "metadata": {},
   "outputs": [],
   "source": [
    "def drawAreaToMeasure(event, x, y, flags, param): \n",
    "    # grab references to the global variables \n",
    "    global points, image\n",
    "  \n",
    "    # if the left mouse button was clicked, record the starting \n",
    "    # (x, y) coordinates and indicate that cropping is being performed \n",
    "    if event == cv2.EVENT_LBUTTONDOWN: \n",
    "        points = [(x, y)] \n",
    "  \n",
    "    # check to see if the left mouse button was released \n",
    "    elif event == cv2.EVENT_LBUTTONUP: \n",
    "        # record the ending (x, y) coordinates and indicate that \n",
    "        # the cropping operation is finished \n",
    "        points.append((x, y)) \n",
    "  \n",
    "        # draw a rectangle around the region of interest \n",
    "        cv2.rectangle(image, points[0], points[1], (0, 255, 0), 2)\n",
    "        dimension = calculateDimension()\n",
    "#         (tlM, trM) = midpoint(points[1])\n",
    "        cv2.putText(image, \"Height: {:.1f} cm\".format(dimension[0]), (50,50), \n",
    "                    cv2.FONT_HERSHEY_SIMPLEX, 0.65, (255, 255, 255), 2)\n",
    "        cv2.putText(image, \"Width: {:.1f} cm\".format(dimension[1]), (50,70), \n",
    "                    cv2.FONT_HERSHEY_SIMPLEX, 0.65, (255, 255, 255), 2)\n",
    "        cv2.imshow(\"image\", image)"
   ]
  },
  {
   "cell_type": "code",
   "execution_count": 31,
   "metadata": {},
   "outputs": [],
   "source": [
    "def selectAreaToMeasure():\n",
    "    global image\n",
    "    image = testLeftImage.copy()\n",
    "    image = resize(image, imageScale)\n",
    "    clone = image.copy()\n",
    "    cv2.namedWindow(\"image\") \n",
    "    cv2.setMouseCallback(\"image\", drawAreaToMeasure) \n",
    "\n",
    "    while True: \n",
    "        cv2.imshow(\"image\", image) \n",
    "        key = cv2.waitKey(1) & 0xFF\n",
    "\n",
    "        # press 'r' to reset the window \n",
    "        if key == ord(\"r\"): \n",
    "            image = clone.copy() \n",
    "\n",
    "        # if the 'c' key is pressed, break from the loop \n",
    "        elif key == ord(\"q\"): \n",
    "            break\n",
    "\n",
    "    cv2.destroyAllWindows()  "
   ]
  },
  {
   "cell_type": "code",
   "execution_count": 20,
   "metadata": {},
   "outputs": [],
   "source": [
    "def calculateDistance():\n",
    "    global disparityMap, testLeftImage, testRightImage\n",
    "    cv2.namedWindow(\"image\") \n",
    "    cv2.setMouseCallback(\"image\", getDistance)\n",
    "    \n",
    "    disparityMap = getDisparity(testLeftImage, testRightImage)\n",
    "    while True:\n",
    "        cv2.imshow(\"image\", resize(disparityMap, disparityMapScale)) \n",
    "        key = cv2.waitKey(1) & 0xFF\n",
    "\n",
    "        if key == ord(\"q\"):\n",
    "            break\n",
    "    cv2.destroyAllWindows()"
   ]
  },
  {
   "cell_type": "code",
   "execution_count": 66,
   "metadata": {},
   "outputs": [],
   "source": [
    "def run():\n",
    "    if isTrain:\n",
    "        print(\"here\")\n",
    "    else:\n",
    "        calculateDistance()\n",
    "        selectAreaToMeasure()\n",
    "        dimension = calculateDimension()\n",
    "        "
   ]
  },
  {
   "cell_type": "code",
   "execution_count": 71,
   "metadata": {},
   "outputs": [
    {
     "name": "stdout",
     "output_type": "stream",
     "text": [
      "753.8\n",
      "4032\n",
      "4032\n"
     ]
    }
   ],
   "source": [
    "run()"
   ]
  },
  {
   "cell_type": "code",
   "execution_count": 65,
   "metadata": {},
   "outputs": [],
   "source": [
    "def calculateDimension():\n",
    "    global distance, points\n",
    "    #since it was resized, we need to get the real pixel inthe original image\n",
    "    heightInPixel = (points[1][1]/(imageScale/100)) - (points[0][1]/(imageScale/100))\n",
    "    print(testLeftImage.shape[0])\n",
    "    realHeight = (distance * sensorHeight * heightInPixel) / (cameraFocalLength * testLeftImage.shape[0])\n",
    "    realWidth = (realHeight * testLeftImage.shape[1])/testLeftImage.shape[0]\n",
    "    return [np.round(realHeight*0.1, 2), np.round(realWidth*0.1, 2)]  #so it is in cm"
   ]
  },
  {
   "cell_type": "code",
   "execution_count": 63,
   "metadata": {},
   "outputs": [],
   "source": [
    "def midpoint(ptA, ptB):\n",
    "    return ((ptA[0] + ptB[0]) * 0.5, (ptA[1] + ptB[1]) * 0.5)"
   ]
  }
 ],
 "metadata": {
  "kernelspec": {
   "display_name": "Python 3",
   "language": "python",
   "name": "python3"
  },
  "language_info": {
   "codemirror_mode": {
    "name": "ipython",
    "version": 3
   },
   "file_extension": ".py",
   "mimetype": "text/x-python",
   "name": "python",
   "nbconvert_exporter": "python",
   "pygments_lexer": "ipython3",
   "version": "3.7.4"
  }
 },
 "nbformat": 4,
 "nbformat_minor": 2
}
